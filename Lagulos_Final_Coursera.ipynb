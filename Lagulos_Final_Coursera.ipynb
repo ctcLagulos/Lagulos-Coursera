{
  "nbformat": 4,
  "nbformat_minor": 0,
  "metadata": {
    "colab": {
      "provenance": []
    },
    "kernelspec": {
      "name": "python3",
      "display_name": "Python 3"
    },
    "language_info": {
      "name": "python"
    }
  },
  "cells": [
    {
      "cell_type": "markdown",
      "source": [
        "# Lagulos Final Project\n"
      ],
      "metadata": {
        "id": "Gd3KjCsNdmyo"
      }
    },
    {
      "cell_type": "markdown",
      "source": [
        "## Introduction\n",
        "This is my final project for coursera\n",
        "\n"
      ],
      "metadata": {
        "id": "SIxLwsW5dyGA"
      }
    },
    {
      "cell_type": "markdown",
      "source": [
        "## Data Science Languages\n",
        "- Python\n",
        "- R\n",
        "- Julia\n",
        "- SQL\n",
        "- Java\n",
        "- Scala\n"
      ],
      "metadata": {
        "id": "knKIDiFEeG14"
      }
    },
    {
      "cell_type": "markdown",
      "source": [
        "## Data Science Libraries\n",
        "- Pandas\n",
        "- NumPy\n",
        "- SciPy\n",
        "- Scikit-learn\n",
        "- TensorFlow\n",
        "- Keras\n",
        "- PyTorch\n",
        "- Matplotlib\n"
      ],
      "metadata": {
        "id": "xNhIc8SpeI3G"
      }
    },
    {
      "cell_type": "markdown",
      "source": [
        "## Data Science Tools\n",
        "| Tool               | Description                             |\n",
        "|--------------------|-----------------------------------------|\n",
        "| Jupyter Notebook   | Interactive computing environment       |\n",
        "| RStudio            | IDE for R programming                   |\n",
        "| Apache Zeppelin    | Web-based notebook for data analytics   |\n",
        "| Anaconda           | Distribution for scientific computing   |\n"
      ],
      "metadata": {
        "id": "rI6zauQQeLvo"
      }
    },
    {
      "cell_type": "markdown",
      "source": [
        "## Arithmetic Expression Examples\n",
        "Here are examples of arithmetic operations such as addition and multiplication."
      ],
      "metadata": {
        "id": "u582I0s8eO4P"
      }
    },
    {
      "cell_type": "code",
      "source": [
        "# Example of multiplication and addition\n",
        "a = 5\n",
        "b = 10\n",
        "c = 15\n",
        "result = (a * b) + c\n",
        "result"
      ],
      "metadata": {
        "colab": {
          "base_uri": "https://localhost:8080/"
        },
        "id": "yHxqXHZAeTZf",
        "outputId": "d38961c2-af98-443d-fe6e-e7d634df3da4"
      },
      "execution_count": 1,
      "outputs": [
        {
          "output_type": "execute_result",
          "data": {
            "text/plain": [
              "65"
            ]
          },
          "metadata": {},
          "execution_count": 1
        }
      ]
    },
    {
      "cell_type": "code",
      "source": [
        "# Conversion from minutes to hours\n",
        "minutes = 120\n",
        "hours = minutes / 60\n",
        "hours\n"
      ],
      "metadata": {
        "colab": {
          "base_uri": "https://localhost:8080/"
        },
        "id": "ZM0TSuzzeZUt",
        "outputId": "a25b5816-67d8-4f53-e187-471e3d9f7fa8"
      },
      "execution_count": 2,
      "outputs": [
        {
          "output_type": "execute_result",
          "data": {
            "text/plain": [
              "2.0"
            ]
          },
          "metadata": {},
          "execution_count": 2
        }
      ]
    },
    {
      "cell_type": "markdown",
      "source": [
        "## Objectives\n",
        "- List common data science languages.\n",
        "- List popular data science libraries.\n",
        "- Showcase various data science tools.\n",
        "- Demonstrate basic arithmetic operations.\n",
        "- Convert units of measurement.\n"
      ],
      "metadata": {
        "id": "J3O6W2P3ehpA"
      }
    },
    {
      "cell_type": "markdown",
      "source": [
        "## Author\n",
        "CJ TOM CARLOS M. LAGULOS\n"
      ],
      "metadata": {
        "id": "yzRzZhFdekNI"
      }
    },
    {
      "cell_type": "code",
      "source": [],
      "metadata": {
        "id": "GvOmIsdkenGY"
      },
      "execution_count": null,
      "outputs": []
    }
  ]
}